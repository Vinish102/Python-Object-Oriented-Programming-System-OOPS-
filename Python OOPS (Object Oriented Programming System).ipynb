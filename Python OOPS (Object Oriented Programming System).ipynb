{
 "cells": [
  {
   "cell_type": "markdown",
   "id": "23159966",
   "metadata": {},
   "source": [
    "Python OOPS (Object Oriented Programming System)"
   ]
  },
  {
   "cell_type": "code",
   "execution_count": 1,
   "id": "d59baa11",
   "metadata": {},
   "outputs": [],
   "source": [
    "#Question 1) What are the five key concepts of Object-Oriented Programming (OOP)?"
   ]
  },
  {
   "cell_type": "code",
   "execution_count": 2,
   "id": "93212140",
   "metadata": {},
   "outputs": [
    {
     "data": {
      "text/plain": [
       "\"\\n1) Encapsulation\\nEncapsulation is the bundling of data (attributes) and methods (functions) that operate on the data into a single unit, or class. \\nIt restricts direct access to some of the object's components, which is a means of preventing unintended interference and misuse of the methods and data.\\n\""
      ]
     },
     "execution_count": 2,
     "metadata": {},
     "output_type": "execute_result"
    }
   ],
   "source": [
    "\"\"\"\n",
    "1) Encapsulation\n",
    "Encapsulation is the bundling of data (attributes) and methods (functions) that operate on the data into a single unit, or class. \n",
    "It restricts direct access to some of the object's components, which is a means of preventing unintended interference and misuse of the methods and data.\n",
    "\"\"\""
   ]
  },
  {
   "cell_type": "code",
   "execution_count": 3,
   "id": "1ab15191",
   "metadata": {},
   "outputs": [
    {
     "name": "stdout",
     "output_type": "stream",
     "text": [
      "Deposited: 100\n",
      "Withdrew: 50\n",
      "50\n"
     ]
    }
   ],
   "source": [
    "class BankAccount:\n",
    "    def __init__(self, owner, balance=0):\n",
    "        self.owner = owner\n",
    "        self.__balance = balance  # Private attribute\n",
    "\n",
    "    def deposit(self, amount):\n",
    "        if amount > 0:\n",
    "            self.__balance += amount\n",
    "            print(f\"Deposited: {amount}\")\n",
    "\n",
    "    def withdraw(self, amount):\n",
    "        if 0 < amount <= self.__balance:\n",
    "            self.__balance -= amount\n",
    "            print(f\"Withdrew: {amount}\")\n",
    "        else:\n",
    "            print(\"Insufficient funds\")\n",
    "\n",
    "    def get_balance(self):\n",
    "        return self.__balance\n",
    "\n",
    "# Usage\n",
    "account = BankAccount(\"Alice\")\n",
    "account.deposit(100)\n",
    "account.withdraw(50)\n",
    "print(account.get_balance())  # Outputs: 50\n",
    "# print(account.__balance)  # This will raise an AttributeError"
   ]
  },
  {
   "cell_type": "code",
   "execution_count": 4,
   "id": "8ae4759a",
   "metadata": {},
   "outputs": [
    {
     "data": {
      "text/plain": [
       "'\\n2) Abstraction\\nAbstraction is the concept of hiding the complex reality while exposing only the necessary parts. \\nIt helps in reducing programming complexity and increases efficiency.\\n'"
      ]
     },
     "execution_count": 4,
     "metadata": {},
     "output_type": "execute_result"
    }
   ],
   "source": [
    "\"\"\"\n",
    "2) Abstraction\n",
    "Abstraction is the concept of hiding the complex reality while exposing only the necessary parts. \n",
    "It helps in reducing programming complexity and increases efficiency.\n",
    "\"\"\""
   ]
  },
  {
   "cell_type": "code",
   "execution_count": 5,
   "id": "776f947f",
   "metadata": {},
   "outputs": [
    {
     "name": "stdout",
     "output_type": "stream",
     "text": [
      "Area: 78.5\n",
      "Area: 24\n"
     ]
    }
   ],
   "source": [
    "from abc import ABC, abstractmethod\n",
    "\n",
    "class Shape(ABC):\n",
    "    @abstractmethod\n",
    "    def area(self):\n",
    "        pass\n",
    "\n",
    "class Circle(Shape):\n",
    "    def __init__(self, radius):\n",
    "        self.radius = radius\n",
    "\n",
    "    def area(self):\n",
    "        return 3.14 * self.radius * self.radius\n",
    "\n",
    "class Rectangle(Shape):\n",
    "    def __init__(self, width, height):\n",
    "        self.width = width\n",
    "        self.height = height\n",
    "\n",
    "    def area(self):\n",
    "        return self.width * self.height\n",
    "\n",
    "# Usage\n",
    "shapes = [Circle(5), Rectangle(4, 6)]\n",
    "for shape in shapes:\n",
    "    print(f\"Area: {shape.area()}\")"
   ]
  },
  {
   "cell_type": "code",
   "execution_count": 6,
   "id": "b3b7cf6b",
   "metadata": {},
   "outputs": [
    {
     "data": {
      "text/plain": [
       "'\\n3) Inheritance\\nInheritance is a mechanism where a new class inherits the properties and behavior (methods) of another class. \\nThis promotes code reusability.\\n'"
      ]
     },
     "execution_count": 6,
     "metadata": {},
     "output_type": "execute_result"
    }
   ],
   "source": [
    "\"\"\"\n",
    "3) Inheritance\n",
    "Inheritance is a mechanism where a new class inherits the properties and behavior (methods) of another class. \n",
    "This promotes code reusability.\n",
    "\"\"\""
   ]
  },
  {
   "cell_type": "code",
   "execution_count": 7,
   "id": "6b87cfa0",
   "metadata": {},
   "outputs": [
    {
     "name": "stdout",
     "output_type": "stream",
     "text": [
      "Woof!\n",
      "Meow!\n"
     ]
    }
   ],
   "source": [
    "class Animal:\n",
    "    def speak(self):\n",
    "        return \"Animal speaks\"\n",
    "\n",
    "class Dog(Animal):\n",
    "    def speak(self):\n",
    "        return \"Woof!\"\n",
    "\n",
    "class Cat(Animal):\n",
    "    def speak(self):\n",
    "        return \"Meow!\"\n",
    "\n",
    "# Usage\n",
    "dog = Dog()\n",
    "cat = Cat()\n",
    "print(dog.speak())  # Outputs: Woof!\n",
    "print(cat.speak())  # Outputs: Meow!"
   ]
  },
  {
   "cell_type": "code",
   "execution_count": 8,
   "id": "a42f2711",
   "metadata": {},
   "outputs": [
    {
     "data": {
      "text/plain": [
       "'\\n4) Polymorphism\\nPolymorphism allows methods to do different things based on the object it is acting upon, even if they share the same name. \\nThis can be achieved through method overriding and method overloading.\\n'"
      ]
     },
     "execution_count": 8,
     "metadata": {},
     "output_type": "execute_result"
    }
   ],
   "source": [
    "\"\"\"\n",
    "4) Polymorphism\n",
    "Polymorphism allows methods to do different things based on the object it is acting upon, even if they share the same name. \n",
    "This can be achieved through method overriding and method overloading.\n",
    "\"\"\""
   ]
  },
  {
   "cell_type": "code",
   "execution_count": 9,
   "id": "b76491ac",
   "metadata": {},
   "outputs": [
    {
     "name": "stdout",
     "output_type": "stream",
     "text": [
      "Flies high\n",
      "Cannot fly\n"
     ]
    }
   ],
   "source": [
    "class Bird:\n",
    "    def fly(self):\n",
    "        return \"Flies in the sky\"\n",
    "\n",
    "class Penguin(Bird):\n",
    "    def fly(self):\n",
    "        return \"Cannot fly\"\n",
    "\n",
    "class Sparrow(Bird):\n",
    "    def fly(self):\n",
    "        return \"Flies high\"\n",
    "\n",
    "# Usage\n",
    "def make_bird_fly(bird):\n",
    "    print(bird.fly())\n",
    "\n",
    "sparrow = Sparrow()\n",
    "penguin = Penguin()\n",
    "\n",
    "make_bird_fly(sparrow)  # Outputs: Flies high\n",
    "make_bird_fly(penguin)  # Outputs: Cannot fly"
   ]
  },
  {
   "cell_type": "code",
   "execution_count": 10,
   "id": "86a8684a",
   "metadata": {},
   "outputs": [
    {
     "data": {
      "text/plain": [
       "'\\n5) Composition\\nComposition is a design principle where a class is composed of one or more objects from other classes, \\nallowing for a more flexible and modular design. It represents a \"has-a\" relationship.\\n'"
      ]
     },
     "execution_count": 10,
     "metadata": {},
     "output_type": "execute_result"
    }
   ],
   "source": [
    "\"\"\"\n",
    "5) Composition\n",
    "Composition is a design principle where a class is composed of one or more objects from other classes, \n",
    "allowing for a more flexible and modular design. It represents a \"has-a\" relationship.\n",
    "\"\"\""
   ]
  },
  {
   "cell_type": "code",
   "execution_count": 11,
   "id": "a723b4f5",
   "metadata": {},
   "outputs": [
    {
     "name": "stdout",
     "output_type": "stream",
     "text": [
      "Engine started\n"
     ]
    }
   ],
   "source": [
    "class Engine:\n",
    "    def start(self):\n",
    "        return \"Engine started\"\n",
    "\n",
    "class Car:\n",
    "    def __init__(self):\n",
    "        self.engine = Engine()  # Car \"has-a\" Engine\n",
    "\n",
    "    def start(self):\n",
    "        return self.engine.start()  # Delegating the start action to the engine\n",
    "\n",
    "# Usage\n",
    "my_car = Car()\n",
    "print(my_car.start())  # Outputs: Engine started"
   ]
  },
  {
   "cell_type": "code",
   "execution_count": 12,
   "id": "64aeed25",
   "metadata": {},
   "outputs": [],
   "source": [
    "#Question 2)  Write a Python class for a `Car` with attributes for `make`, `model`, and `year`. \n",
    "#Include a method to display the car's information"
   ]
  },
  {
   "cell_type": "code",
   "execution_count": 13,
   "id": "8ff273b2",
   "metadata": {},
   "outputs": [
    {
     "name": "stdout",
     "output_type": "stream",
     "text": [
      "2022 Toyota Camry\n"
     ]
    }
   ],
   "source": [
    "class Car:\n",
    "    def __init__(self, make, model, year):\n",
    "        self.make = make\n",
    "        self.model = model\n",
    "        self.year = year\n",
    "\n",
    "    def display_info(self):\n",
    "        print(f\"{self.year} {self.make} {self.model}\")\n",
    "\n",
    "# Usage\n",
    "my_car = Car(\"Toyota\", \"Camry\", 2022)\n",
    "my_car.display_info()"
   ]
  },
  {
   "cell_type": "code",
   "execution_count": 14,
   "id": "364c862b",
   "metadata": {},
   "outputs": [],
   "source": [
    "#Question 3) Explain the difference between instance methods and class methods. Provide an example of each"
   ]
  },
  {
   "cell_type": "code",
   "execution_count": 15,
   "id": "813a8598",
   "metadata": {},
   "outputs": [
    {
     "data": {
      "text/plain": [
       "'\\nKey Differences\\n\\nFirst Argument\\nInstance Method: self (instance)\\nClass Method: cls (class)\\n\\nAccess\\nInstance Method: Can access instance attributes\\nClass Method: Can access class attributes\\n\\nCalling\\nInstance Method: Called on an instance\\nClass Method: Can be called on class or instance\\n'"
      ]
     },
     "execution_count": 15,
     "metadata": {},
     "output_type": "execute_result"
    }
   ],
   "source": [
    "\"\"\"\n",
    "Key Differences\n",
    "\n",
    "First Argument\n",
    "Instance Method: self (instance)\n",
    "Class Method: cls (class)\n",
    "\n",
    "Access\n",
    "Instance Method: Can access instance attributes\n",
    "Class Method: Can access class attributes\n",
    "\n",
    "Calling\n",
    "Instance Method: Called on an instance\n",
    "Class Method: Can be called on class or instance\n",
    "\"\"\""
   ]
  },
  {
   "cell_type": "code",
   "execution_count": 16,
   "id": "8c0b3de1",
   "metadata": {},
   "outputs": [],
   "source": [
    "class User:\n",
    "    # Class variable to track users\n",
    "    _user_count = 0\n",
    "    _admin_count = 0\n",
    "\n",
    "    def __init__(self, username, email):\n",
    "        # Instance attributes\n",
    "        self.username = username\n",
    "        self.email = email\n",
    "        self.is_active = True\n",
    "        \n",
    "        # Increment user count\n",
    "        User._user_count += 1\n",
    "\n",
    "    # Instance Method\n",
    "    def send_welcome_email(self):\n",
    "        \"\"\"\n",
    "        Instance method that operates on instance data\n",
    "        \"\"\"\n",
    "        return f\"Sending welcome email to {self.email}\"\n",
    "\n",
    "    # Instance Method to deactivate user\n",
    "    def deactivate(self):\n",
    "        \"\"\"\n",
    "        Modify instance state\n",
    "        \"\"\"\n",
    "        self.is_active = False\n",
    "        return f\"User {self.username} deactivated\"\n",
    "\n",
    "    # Class Method to get total user count\n",
    "    @classmethod\n",
    "    def get_total_users(cls):\n",
    "        \"\"\"\n",
    "        Access class-level information\n",
    "        \"\"\"\n",
    "        return cls._user_count\n",
    "\n",
    "    # Class Method as alternative constructor\n",
    "    @classmethod\n",
    "    def create_admin(cls, username, email):\n",
    "        \"\"\"\n",
    "        Alternative constructor for creating admin users\n",
    "        \"\"\"\n",
    "        admin = cls(username, email)\n",
    "        admin.is_admin = True\n",
    "        cls._admin_count += 1\n",
    "        return admin\n",
    "\n",
    "\n",
    "# Demonstration\n",
    "def user_management_demo():\n",
    "    # Create regular users\n",
    "    user1 = User(\"john_doe\", \"john@example.com\")\n",
    "    user2 = User(\"jane_smith\", \"jane@example.com\")\n",
    "\n",
    "    # Create admin user\n",
    "    admin = User.create_admin(\"admin_user\", \"admin@example.com\")\n",
    "\n",
    "    # Demonstrate method calls\n",
    "    print(user1.send_welcome_email())\n",
    "    print(User.get_total_users())  # Class method call\n"
   ]
  },
  {
   "cell_type": "code",
   "execution_count": 17,
   "id": "37e22114",
   "metadata": {},
   "outputs": [],
   "source": [
    "#Question 4) How does Python implement method overloading? Give an example"
   ]
  },
  {
   "cell_type": "code",
   "execution_count": 18,
   "id": "0c146067",
   "metadata": {},
   "outputs": [
    {
     "name": "stdout",
     "output_type": "stream",
     "text": [
      "8\n",
      "10\n"
     ]
    }
   ],
   "source": [
    "class Calculator:\n",
    "    # Python does NOT support traditional method overloading\n",
    "    def add(self, *args):\n",
    "        \"\"\"\n",
    "        Simulate method overloading using variable arguments\n",
    "        \"\"\"\n",
    "        # Handle different number of arguments\n",
    "        if len(args) == 2:\n",
    "            return args[0] + args[1]\n",
    "        elif len(args) == 3:\n",
    "            return args[0] + args[1] + args[2]\n",
    "        else:\n",
    "            raise TypeError(\"Invalid number of arguments\")\n",
    "\n",
    "# Usage\n",
    "def method_overloading_demo():\n",
    "    calc = Calculator()\n",
    "    \n",
    "    # Different argument scenarios\n",
    "    print(calc.add(5, 3))        # 2 arguments\n",
    "    print(calc.add(5, 3, 2))     # 3 arguments\n",
    "    # print(calc.add(1, 2, 3, 4))  # Would raise TypeError\n",
    "    \n",
    "method_overloading_demo()"
   ]
  },
  {
   "cell_type": "code",
   "execution_count": 19,
   "id": "71af49a4",
   "metadata": {},
   "outputs": [],
   "source": [
    "#Question 5) What are the three types of access modifiers in Python? How are they denoted?"
   ]
  },
  {
   "cell_type": "code",
   "execution_count": 20,
   "id": "43a69b98",
   "metadata": {},
   "outputs": [],
   "source": [
    "#Access Modifiers in Python\n",
    "#1. Public Members (Default)"
   ]
  },
  {
   "cell_type": "code",
   "execution_count": 21,
   "id": "87935127",
   "metadata": {},
   "outputs": [
    {
     "name": "stdout",
     "output_type": "stream",
     "text": [
      "I am public\n",
      "This is a public method\n"
     ]
    }
   ],
   "source": [
    "class PublicAccessDemo:\n",
    "    def __init__(self):\n",
    "        # Public members are accessible from anywhere\n",
    "        self.public_variable = \"I am public\"\n",
    "    \n",
    "    def public_method(self):\n",
    "        \"\"\"\n",
    "        Public method accessible from outside the class\n",
    "        \"\"\"\n",
    "        print(\"This is a public method\")\n",
    "\n",
    "# Usage\n",
    "def public_access_demo():\n",
    "    obj = PublicAccessDemo()\n",
    "    print(obj.public_variable)  # Directly accessible\n",
    "    obj.public_method()         # Directly callable\n",
    "public_access_demo()"
   ]
  },
  {
   "cell_type": "code",
   "execution_count": 22,
   "id": "e271fbfc",
   "metadata": {},
   "outputs": [],
   "source": [
    "#2. Protected Members (Single Underscore)\n",
    "class ProtectedAccessDemo:\n",
    "    def __init__(self):\n",
    "        # Protected members (convention, not strict enforcement)\n",
    "        self._protected_variable = \"I am protected\"\n",
    "    \n",
    "    def _protected_method(self):\n",
    "        \"\"\"\n",
    "        Protected method (by convention)\n",
    "        \"\"\"\n",
    "        print(\"This is a protected method\")\n",
    "    \n",
    "    def public_method(self):\n",
    "        \"\"\"\n",
    "        Can access protected members within the class\n",
    "        \"\"\"\n",
    "        print(self._protected_variable)\n",
    "        self._protected_method()\n",
    "\n",
    "# Usage\n",
    "def protected_access_demo():\n",
    "    obj = ProtectedAccessDemo()\n",
    "    \n",
    "    # Technically accessible, but considered bad practice\n",
    "    print(obj._protected_variable)\n",
    "    obj._protected_method()\n",
    "    \n",
    "    # Recommended: Use through public interface\n",
    "    obj.public_method()"
   ]
  },
  {
   "cell_type": "code",
   "execution_count": 23,
   "id": "02895afa",
   "metadata": {},
   "outputs": [],
   "source": [
    "#3. Private Members (Double Underscore)\n",
    "class PrivateAccessDemo:\n",
    "    def __init__(self):\n",
    "        # Private members (name mangling)\n",
    "        self.__private_variable = \"I am private\"\n",
    "    \n",
    "    def __private_method(self):\n",
    "        \"\"\"\n",
    "        Private method with name mangling\n",
    "        \"\"\"\n",
    "        print(\"This is a private method\")\n",
    "    \n",
    "    def public_method(self):\n",
    "        \"\"\"\n",
    "        Can access private members within the class\n",
    "        \"\"\"\n",
    "        print(self.__private_variable)\n",
    "        self.__private_method()\n",
    "\n",
    "# Usage\n",
    "def private_access_demo():\n",
    "    obj = PrivateAccessDemo()\n",
    "    \n",
    "    # Attempt to access private member (will fail)\n",
    "    try:\n",
    "        print(obj.__private_variable)  # Raises AttributeError\n",
    "    except AttributeError:\n",
    "        print(\"Cannot directly access private member\")\n",
    "    \n",
    "    # Accessing through public method\n",
    "    obj.public_method()"
   ]
  },
  {
   "cell_type": "code",
   "execution_count": 24,
   "id": "2217a615",
   "metadata": {},
   "outputs": [],
   "source": [
    "#Question 6)  Describe the five types of inheritance in Python. Provide a simple example of multiple inheritance."
   ]
  },
  {
   "cell_type": "code",
   "execution_count": 25,
   "id": "a8d4a969",
   "metadata": {},
   "outputs": [
    {
     "name": "stdout",
     "output_type": "stream",
     "text": [
      "Animal makes a sound\n",
      "Buddy is barking\n"
     ]
    }
   ],
   "source": [
    "#1) Singl Inheritance\n",
    "class Animal:\n",
    "    def __init__(self, name):\n",
    "        self.name = name\n",
    "    \n",
    "    def speak(self):\n",
    "        print(\"Animal makes a sound\")\n",
    "\n",
    "class Dog(Animal):\n",
    "    def bark(self):\n",
    "        print(f\"{self.name} is barking\")\n",
    "\n",
    "# Usage\n",
    "def single_inheritance_demo():\n",
    "    my_dog = Dog(\"Buddy\")\n",
    "    my_dog.speak()  # Inherited method\n",
    "    my_dog.bark()   # Subclass method\n",
    "single_inheritance_demo()"
   ]
  },
  {
   "cell_type": "code",
   "execution_count": 26,
   "id": "78ffb68f",
   "metadata": {},
   "outputs": [
    {
     "name": "stdout",
     "output_type": "stream",
     "text": [
      "I can fly\n",
      "I can swim\n",
      "Donald is quacking\n"
     ]
    }
   ],
   "source": [
    "# 2) Multiple Inheritance\n",
    "class Flying:\n",
    "    def fly(self):\n",
    "        print(\"I can fly\")\n",
    "\n",
    "class Swimming:\n",
    "    def swim(self):\n",
    "        print(\"I can swim\")\n",
    "\n",
    "class Duck(Flying, Swimming):\n",
    "    def __init__(self, name):\n",
    "        self.name = name\n",
    "    \n",
    "    def quack(self):\n",
    "        print(f\"{self.name} is quacking\")\n",
    "\n",
    "# Usage\n",
    "def multiple_inheritance_demo():\n",
    "    donald = Duck(\"Donald\")\n",
    "    donald.fly()    # From Flying class\n",
    "    donald.swim()   # From Swimming class\n",
    "    donald.quack()  # Own method\n",
    "multiple_inheritance_demo()"
   ]
  },
  {
   "cell_type": "code",
   "execution_count": 27,
   "id": "799ba7c3",
   "metadata": {},
   "outputs": [
    {
     "name": "stdout",
     "output_type": "stream",
     "text": [
      "Grandparent method\n",
      "Parent method\n",
      "Child method\n"
     ]
    }
   ],
   "source": [
    "#3. Multilevel Inheritance\n",
    "class Grandparent:\n",
    "    def grandparent_method(self):\n",
    "        print(\"Grandparent method\")\n",
    "\n",
    "class Parent(Grandparent):\n",
    "    def parent_method(self):\n",
    "        print(\"Parent method\")\n",
    "\n",
    "class Child(Parent):\n",
    "    def child_method(self):\n",
    "        print(\"Child method\")\n",
    "\n",
    "# Usage\n",
    "def multilevel_inheritance_demo():\n",
    "    child = Child()\n",
    "    child.grandparent_method()  # Inherited from Grandparent\n",
    "    child.parent_method()       # Inherited from Parent\n",
    "    child.child_method()        # Own method\n",
    "multilevel_inheritance_demo()"
   ]
  },
  {
   "cell_type": "code",
   "execution_count": 28,
   "id": "53d7be9d",
   "metadata": {},
   "outputs": [
    {
     "name": "stdout",
     "output_type": "stream",
     "text": [
      "Toyota vehicle started\n",
      "Toyota car is driving\n",
      "Ford vehicle started\n",
      "Ford truck is loading cargo\n"
     ]
    }
   ],
   "source": [
    "#4. Hierarchical Inheritance\n",
    "class Vehicle:\n",
    "    def __init__(self, brand):\n",
    "        self.brand = brand\n",
    "    \n",
    "    def start(self):\n",
    "        print(f\"{self.brand} vehicle started\")\n",
    "\n",
    "class Car(Vehicle):\n",
    "    def drive_car(self):\n",
    "        print(f\"{self.brand} car is driving\")\n",
    "\n",
    "class Truck(Vehicle):\n",
    "    def load_cargo(self):\n",
    "        print(f\"{self.brand} truck is loading cargo\")\n",
    "\n",
    "# Usage\n",
    "def hierarchical_inheritance_demo():\n",
    "    car = Car(\"Toyota\")\n",
    "    truck = Truck(\"Ford\")\n",
    "    \n",
    "    car.start()      # Inherited method\n",
    "    car.drive_car()  # Car-specific method\n",
    "    \n",
    "    truck.start()        # Inherited method\n",
    "    truck.load_cargo()   # Truck-specific method\n",
    "hierarchical_inheritance_demo()"
   ]
  },
  {
   "cell_type": "code",
   "execution_count": 29,
   "id": "51cc5c30",
   "metadata": {},
   "outputs": [
    {
     "name": "stdout",
     "output_type": "stream",
     "text": [
      "Engine started\n",
      "Charging electric system\n",
      "Tesla electric car is ready\n"
     ]
    }
   ],
   "source": [
    "#5) Hybrid (Composition) Inheritance\n",
    "class Engine:\n",
    "    def start_engine(self):\n",
    "        print(\"Engine started\")\n",
    "\n",
    "class ElectricSystem:\n",
    "    def charge(self):\n",
    "        print(\"Charging electric system\")\n",
    "\n",
    "class ElectricCar:\n",
    "    def __init__(self, brand):\n",
    "        self.brand = brand\n",
    "        self.engine = Engine()\n",
    "        self.electric_system = ElectricSystem()\n",
    "    \n",
    "    def start(self):\n",
    "        self.engine.start_engine()\n",
    "        self.electric_system.charge()\n",
    "        print(f\"{self.brand} electric car is ready\")\n",
    "\n",
    "# Usage\n",
    "def hybrid_inheritance_demo():\n",
    "    tesla = ElectricCar(\"Tesla\")\n",
    "    tesla.start()\n",
    "hybrid_inheritance_demo()"
   ]
  },
  {
   "cell_type": "code",
   "execution_count": 30,
   "id": "a8783536",
   "metadata": {},
   "outputs": [],
   "source": [
    "#Question 7) What is the Method Resolution Order (MRO) in Python? How can you retrieve it programmatically?"
   ]
  },
  {
   "cell_type": "code",
   "execution_count": 31,
   "id": "afe12c2e",
   "metadata": {},
   "outputs": [
    {
     "data": {
      "text/plain": [
       "'\\n*Key MRO Characteristics\\n\\n1)C3 Linearization Algorithm\\nDetermines method resolution order\\nEnsures consistent method inheritance\\nPrevents conflicts in multiple inheritance\\n\\n2)Resolution Rules\\nLeft-to-right depth-first search\\nPreserves local precedence order\\nMonotonic inheritance resolution\\n\\n3)Method Lookup Process\\nChecks current class first\\nMoves to parent classes in MRO order\\nsuper() follows MRO for method calls\\n'"
      ]
     },
     "execution_count": 31,
     "metadata": {},
     "output_type": "execute_result"
    }
   ],
   "source": [
    "\"\"\"\n",
    "*Key MRO Characteristics\n",
    "\n",
    "1)C3 Linearization Algorithm\n",
    "Determines method resolution order\n",
    "Ensures consistent method inheritance\n",
    "Prevents conflicts in multiple inheritance\n",
    "\n",
    "2)Resolution Rules\n",
    "Left-to-right depth-first search\n",
    "Preserves local precedence order\n",
    "Monotonic inheritance resolution\n",
    "\n",
    "3)Method Lookup Process\n",
    "Checks current class first\n",
    "Moves to parent classes in MRO order\n",
    "super() follows MRO for method calls\n",
    "\"\"\""
   ]
  },
  {
   "cell_type": "code",
   "execution_count": 32,
   "id": "e7e60668",
   "metadata": {},
   "outputs": [],
   "source": [
    "class MethodResolutionDemo:\n",
    "    @classmethod\n",
    "    def demonstrate_mro(cls):\n",
    "        \"\"\"\n",
    "        Comprehensive MRO demonstration\n",
    "        \"\"\"\n",
    "        # Basic class hierarchy\n",
    "        class A:\n",
    "            def method(self):\n",
    "                print(\"Method from A\")\n",
    "\n",
    "        class B(A):\n",
    "            def method(self):\n",
    "                print(\"Method from B\")\n",
    "\n",
    "        class C(A):\n",
    "            def method(self):\n",
    "                print(\"Method from C\")\n",
    "\n",
    "        class D(B, C):\n",
    "            pass\n",
    "\n",
    "        # Retrieve MRO\n",
    "        print(\"MRO for class D:\")\n",
    "        print(D.mro())\n",
    "\n",
    "        # Create instance and demonstrate method resolution\n",
    "        d = D()\n",
    "        d.method()  # Calls method based on MRO"
   ]
  },
  {
   "cell_type": "code",
   "execution_count": 33,
   "id": "b0e1d77f",
   "metadata": {},
   "outputs": [],
   "source": [
    "#Question 8)  Create an abstract base class `Shape` with an abstract method `area()`. \n",
    "#Then create two subclasses `Circle` and `Rectangle` that implement the `area()` method."
   ]
  },
  {
   "cell_type": "code",
   "execution_count": 34,
   "id": "452c5264",
   "metadata": {},
   "outputs": [
    {
     "name": "stdout",
     "output_type": "stream",
     "text": [
      "Circle:\n",
      "Area: 78.54\n",
      "\n",
      "Rectangle:\n",
      "Area: 24.00\n",
      "\n"
     ]
    }
   ],
   "source": [
    "from abc import ABC, abstractmethod\n",
    "import math\n",
    "\n",
    "class Shape(ABC):\n",
    "    \"\"\"\n",
    "    Abstract base class for geometric shapes\n",
    "    \"\"\"\n",
    "    @abstractmethod\n",
    "    def area(self):\n",
    "        \"\"\"\n",
    "        Abstract method to calculate area\n",
    "        Must be implemented by subclasses\n",
    "        \"\"\"\n",
    "        pass\n",
    "\n",
    "class Circle(Shape):\n",
    "    \"\"\"\n",
    "    Concrete implementation of Circle\n",
    "    \"\"\"\n",
    "    def __init__(self, radius):\n",
    "        \"\"\"\n",
    "        Constructor for Circle\n",
    "        \n",
    "        Args:\n",
    "            radius (float): Radius of the circle\n",
    "        \"\"\"\n",
    "        if radius <= 0:\n",
    "            raise ValueError(\"Radius must be positive\")\n",
    "        self.radius = radius\n",
    "    \n",
    "    def area(self):\n",
    "        \"\"\"\n",
    "        Calculate circle area\n",
    "        \n",
    "        Returns:\n",
    "            float: Area of the circle\n",
    "        \"\"\"\n",
    "        return math.pi * self.radius ** 2\n",
    "\n",
    "class Rectangle(Shape):\n",
    "    \"\"\"\n",
    "    Concrete implementation of Rectangle\n",
    "    \"\"\"\n",
    "    def __init__(self, width, height):\n",
    "        \"\"\"\n",
    "        Constructor for Rectangle\n",
    "        \n",
    "        Args:\n",
    "            width (float): Width of rectangle\n",
    "            height (float): Height of rectangle\n",
    "        \"\"\"\n",
    "        if width <= 0 or height <= 0:\n",
    "            raise ValueError(\"Width and height must be positive\")\n",
    "        \n",
    "        self.width = width\n",
    "        self.height = height\n",
    "    \n",
    "    def area(self):\n",
    "        \"\"\"\n",
    "        Calculate rectangle area\n",
    "        \n",
    "        Returns:\n",
    "            float: Area of the rectangle\n",
    "        \"\"\"\n",
    "        return self.width * self.height\n",
    "\n",
    "# Demonstration function\n",
    "def shape_area_demo():\n",
    "    \"\"\"\n",
    "    Demonstrate abstract base class and subclass implementations\n",
    "    \"\"\"\n",
    "    # Create shape instances\n",
    "    circle = Circle(5)\n",
    "    rectangle = Rectangle(4, 6)\n",
    "    \n",
    "    # Demonstrate polymorphism\n",
    "    shapes = [circle, rectangle]\n",
    "    \n",
    "    for shape in shapes:\n",
    "        print(f\"{shape.__class__.__name__}:\")\n",
    "        print(f\"Area: {shape.area():.2f}\")\n",
    "        print()\n",
    "\n",
    "\n",
    "shape_area_demo()\n",
    "        \n"
   ]
  },
  {
   "cell_type": "code",
   "execution_count": 35,
   "id": "e034d580",
   "metadata": {},
   "outputs": [],
   "source": [
    " #Question 9) Demonstrate polymorphism by creating a function that can work with different shape objects to calculate and print their areas."
   ]
  },
  {
   "cell_type": "code",
   "execution_count": 36,
   "id": "ff91e0bb",
   "metadata": {},
   "outputs": [
    {
     "name": "stdout",
     "output_type": "stream",
     "text": [
      "Circle Area: 78.5\n",
      "Rectangle Area: 24\n",
      "Triangle Area: 6.0\n"
     ]
    }
   ],
   "source": [
    "class Shape:\n",
    "    def area(self):\n",
    "        pass\n",
    "\n",
    "class Circle(Shape):\n",
    "    def __init__(self, radius):\n",
    "        self.radius = radius\n",
    "    \n",
    "    def area(self):\n",
    "        return 3.14 * self.radius * self.radius\n",
    "\n",
    "class Rectangle(Shape):\n",
    "    def __init__(self, width, height):\n",
    "        self.width = width\n",
    "        self.height = height\n",
    "    \n",
    "    def area(self):\n",
    "        return self.width * self.height\n",
    "\n",
    "class Triangle(Shape):\n",
    "    def __init__(self, base, height):\n",
    "        self.base = base\n",
    "        self.height = height\n",
    "    \n",
    "    def area(self):\n",
    "        return 0.5 * self.base * self.height\n",
    "\n",
    "# Polymorphic function to calculate and print areas\n",
    "def print_area(shapes):\n",
    "    for shape in shapes:\n",
    "        print(f\"{shape.__class__.__name__} Area: {shape.area()}\")\n",
    "\n",
    "# Demonstration\n",
    "def main():\n",
    "    # Create different shape objects\n",
    "    circle = Circle(5)\n",
    "    rectangle = Rectangle(4, 6)\n",
    "    triangle = Triangle(3, 4)\n",
    "\n",
    "    # Create a list of shapes\n",
    "    shapes = [circle, rectangle, triangle]\n",
    "\n",
    "    # Use polymorphic function to print areas\n",
    "    print_area(shapes)\n",
    "\n",
    "# Run the demonstration\n",
    "if __name__ == \"__main__\":\n",
    "    main()"
   ]
  },
  {
   "cell_type": "code",
   "execution_count": 37,
   "id": "e9124ab2",
   "metadata": {},
   "outputs": [],
   "source": [
    "#Question 10) Implement encapsulation in a `BankAccount` class with private attributes for `balance` and `account_number`. \n",
    "#Include methods for deposit, withdrawal, and balance inquiry."
   ]
  },
  {
   "cell_type": "code",
   "execution_count": 38,
   "id": "9f22b631",
   "metadata": {},
   "outputs": [
    {
     "name": "stdout",
     "output_type": "stream",
     "text": [
      "Initial Account Number: 123456\n",
      "Initial Balance: $1000\n",
      "Deposited $500\n",
      "Balance after deposit: $1500\n",
      "Withdrew $200\n",
      "Balance after withdrawal: $1300\n",
      "Insufficient funds or invalid withdrawal amount\n",
      "Invalid deposit amount\n"
     ]
    }
   ],
   "source": [
    "class BankAccount:\n",
    "    def __init__(self, account_number, initial_balance=0):\n",
    "        # Private attributes (using single underscore convention)\n",
    "        self._account_number = account_number\n",
    "        self._balance = initial_balance\n",
    "\n",
    "    def deposit(self, amount):\n",
    "        \"\"\"\n",
    "        Method to deposit money into the account\n",
    "        \"\"\"\n",
    "        if amount > 0:\n",
    "            self._balance += amount\n",
    "            print(f\"Deposited ${amount}\")\n",
    "        else:\n",
    "            print(\"Invalid deposit amount\")\n",
    "\n",
    "    def withdraw(self, amount):\n",
    "        \"\"\"\n",
    "        Method to withdraw money from the account\n",
    "        \"\"\"\n",
    "        if 0 < amount <= self._balance:\n",
    "            self._balance -= amount\n",
    "            print(f\"Withdrew ${amount}\")\n",
    "        else:\n",
    "            print(\"Insufficient funds or invalid withdrawal amount\")\n",
    "\n",
    "    def get_balance(self):\n",
    "        \"\"\"\n",
    "        Method to check account balance\n",
    "        \"\"\"\n",
    "        return self._balance\n",
    "\n",
    "    def get_account_number(self):\n",
    "        \"\"\"\n",
    "        Method to retrieve account number\n",
    "        \"\"\"\n",
    "        return self._account_number\n",
    "\n",
    "# Demonstration of the BankAccount class\n",
    "def main():\n",
    "    # Create a new bank account\n",
    "    account = BankAccount(\"123456\", 1000)\n",
    "\n",
    "    # Perform various operations\n",
    "    print(f\"Initial Account Number: {account.get_account_number()}\")\n",
    "    print(f\"Initial Balance: ${account.get_balance()}\")\n",
    "\n",
    "    # Deposit money\n",
    "    account.deposit(500)\n",
    "    print(f\"Balance after deposit: ${account.get_balance()}\")\n",
    "\n",
    "    # Withdraw money\n",
    "    account.withdraw(200)\n",
    "    print(f\"Balance after withdrawal: ${account.get_balance()}\")\n",
    "\n",
    "    # Try to withdraw more than balance\n",
    "    account.withdraw(2000)\n",
    "\n",
    "    # Try to deposit negative amount\n",
    "    account.deposit(-100)\n",
    "\n",
    "# Run the demonstration\n",
    "if __name__ == \"__main__\":\n",
    "    main()"
   ]
  },
  {
   "cell_type": "code",
   "execution_count": 39,
   "id": "672ed0f4",
   "metadata": {},
   "outputs": [],
   "source": [
    " #Question 11) Write a class that overrides the `__str__` and `__add__` magic methods. What will these methods allow you to do?"
   ]
  },
  {
   "cell_type": "code",
   "execution_count": 40,
   "id": "f28ea6e4",
   "metadata": {
    "scrolled": true
   },
   "outputs": [
    {
     "name": "stdout",
     "output_type": "stream",
     "text": [
      "Book 1: Python Basics by John Smith (250 pages)\n",
      "Book 2: Advanced Python by Jane Doe (350 pages)\n",
      "\n",
      "Combined Book: Python Basics + Advanced Python by John Smith & Jane Doe (600 pages)\n"
     ]
    }
   ],
   "source": [
    "class Book:\n",
    "    def __init__(self, title, author, pages):\n",
    "        self.title = title\n",
    "        self.author = author\n",
    "        self.pages = pages\n",
    "    \n",
    "    # Override __str__ method for string representation\n",
    "    def __str__(self):\n",
    "        return f\"{self.title} by {self.author} ({self.pages} pages)\"\n",
    "    \n",
    "    # Override __add__ method to combine books\n",
    "    def __add__(self, other):\n",
    "        # Combine books by adding pages and creating a new title\n",
    "        new_title = f\"{self.title} + {other.title}\"\n",
    "        new_author = f\"{self.author} & {other.author}\"\n",
    "        new_pages = self.pages + other.pages\n",
    "        \n",
    "        return Book(new_title, new_author, new_pages)\n",
    "\n",
    "# Demonstration\n",
    "def main():\n",
    "    # Create book instances\n",
    "    book1 = Book(\"Python Basics\", \"John Smith\", 250)\n",
    "    book2 = Book(\"Advanced Python\", \"Jane Doe\", 350)\n",
    "\n",
    "    # Using __str__ method (print will automatically call this)\n",
    "    print(\"Book 1:\", book1)\n",
    "    print(\"Book 2:\", book2)\n",
    "\n",
    "    # Using __add__ method to combine books\n",
    "    combined_book = book1 + book2\n",
    "    print(\"\\nCombined Book:\", combined_book)\n",
    "\n",
    "# Run the demonstration\n",
    "if __name__ == \"__main__\":\n",
    "    main()"
   ]
  },
  {
   "cell_type": "code",
   "execution_count": 41,
   "id": "fa5d7897",
   "metadata": {},
   "outputs": [],
   "source": [
    "#Question 12)  Create a decorator that measures and prints the execution time of a function."
   ]
  },
  {
   "cell_type": "code",
   "execution_count": 42,
   "id": "40ce7a13",
   "metadata": {},
   "outputs": [],
   "source": [
    "import time\n",
    "from functools import wraps\n",
    "\n",
    "class PerformanceTracker:\n",
    "    \"\"\"\n",
    "    A decorator class for measuring method execution time\n",
    "    \"\"\"\n",
    "    \n",
    "    @staticmethod\n",
    "    def timer(verbose=True):\n",
    "        \"\"\"\n",
    "        Decorator method to measure execution time of class methods\n",
    "        \n",
    "        Args:\n",
    "            verbose (bool): Whether to print execution time details\n",
    "        \n",
    "        Returns:\n",
    "            Decorator function\n",
    "        \"\"\"\n",
    "        def decorator(method):\n",
    "            @wraps(method)\n",
    "            def wrapper(self, *args, **kwargs):\n",
    "                # Start timing\n",
    "                start_time = time.time()\n",
    "                \n",
    "                try:\n",
    "                    # Execute the method\n",
    "                    result = method(self, *args, **kwargs)\n",
    "                    \n",
    "                    # Calculate execution time\n",
    "                    end_time = time.time()\n",
    "                    execution_time = end_time - start_time\n",
    "                    \n",
    "                    # Print execution details if verbose is True\n",
    "                    if verbose:\n",
    "                        print(f\"Method '{method.__name__}' executed in {execution_time:.6f} seconds\")\n",
    "                    \n",
    "                    return result\n",
    "                \n",
    "                except Exception as e:\n",
    "                    print(f\"Error in {method.__name__}: {e}\")\n",
    "                    raise\n",
    "            \n",
    "            return wrapper\n",
    "        return decorator"
   ]
  },
  {
   "cell_type": "code",
   "execution_count": 43,
   "id": "b15be931",
   "metadata": {},
   "outputs": [],
   "source": [
    "\n",
    "# Example class demonstrating the performance tracker\n",
    "class MathOperations:\n",
    "    \"\"\"\n",
    "    Example class with performance-tracked methods\n",
    "    \"\"\"\n",
    "    \n",
    "    @PerformanceTracker.timer()\n",
    "    def calculate_sum(self, n):\n",
    "        \"\"\"\n",
    "        Calculate sum of first n natural numbers\n",
    "        \n",
    "        Args:\n",
    "            n (int): Number of iterations\n",
    "        \n",
    "        Returns:\n",
    "            int: Sum of first n natural numbers\n",
    "        \"\"\"\n",
    "        return sum(range(n))\n",
    "    \n",
    "    @PerformanceTracker.timer(verbose=False)\n",
    "    def calculate_factorial(self, n):\n",
    "        \"\"\"\n",
    "        Calculate factorial of a number\n",
    "        \n",
    "        Args:\n",
    "            n (int): Number to calculate factorial\n",
    "        \n",
    "        Returns:\n",
    "            int: Factorial of n\n",
    "        \"\"\"\n",
    "        if n < 0:\n",
    "            raise ValueError(\"Factorial is not defined for negative numbers\")\n",
    "        \n",
    "        result = 1\n",
    "        for i in range(1, n + 1):\n",
    "            result *= i\n",
    "        \n",
    "        return result"
   ]
  },
  {
   "cell_type": "code",
   "execution_count": 44,
   "id": "0391594b",
   "metadata": {},
   "outputs": [
    {
     "name": "stdout",
     "output_type": "stream",
     "text": [
      "Method 'calculate_sum' executed in 0.059882 seconds\n"
     ]
    }
   ],
   "source": [
    "math_ops = MathOperations()\n",
    "    \n",
    "# Demonstrate method timing\n",
    "result1 = math_ops.calculate_sum(1000000)\n",
    "result2 = math_ops.calculate_factorial(20)"
   ]
  },
  {
   "cell_type": "code",
   "execution_count": 45,
   "id": "ec8a412f",
   "metadata": {},
   "outputs": [],
   "source": [
    "#Question 13) Explain the concept of the Diamond Problem in multiple inheritance. How does Python resolve it?"
   ]
  },
  {
   "cell_type": "code",
   "execution_count": 46,
   "id": "9c3dd484",
   "metadata": {},
   "outputs": [
    {
     "name": "stdout",
     "output_type": "stream",
     "text": [
      "Method from class D\n",
      "Method from class B\n",
      "Method from class C\n",
      "Method from class A\n",
      "\n",
      "Method Resolution Order:\n",
      "[<class '__main__.D'>, <class '__main__.B'>, <class '__main__.C'>, <class '__main__.A'>, <class 'object'>]\n"
     ]
    }
   ],
   "source": [
    "# Basic Diamond Problem Demonstration\n",
    "\n",
    "class A:\n",
    "    def method(self):\n",
    "        print(\"Method from class A\")\n",
    "\n",
    "class B(A):\n",
    "    def method(self):\n",
    "        print(\"Method from class B\")\n",
    "        super().method()  # Calls method from parent A\n",
    "\n",
    "class C(A):\n",
    "    def method(self):\n",
    "        print(\"Method from class C\")\n",
    "        super().method()  # Calls method from parent A\n",
    "\n",
    "class D(B, C):\n",
    "    def method(self):\n",
    "        print(\"Method from class D\")\n",
    "        super().method()  # Uses Method Resolution Order (MRO)\n",
    "\n",
    "# Visualization of inheritance structure\n",
    "#       A\n",
    "#     /   \\\n",
    "#    B     C\n",
    "#     \\   /\n",
    "#       D\n",
    "\n",
    "def main():\n",
    "    # Demonstrate Method Resolution Order\n",
    "    d = D()\n",
    "    d.method()\n",
    "\n",
    "    # Print the Method Resolution Order\n",
    "    print(\"\\nMethod Resolution Order:\")\n",
    "    print(D.mro())\n",
    "\n",
    "if __name__ == \"__main__\":\n",
    "    main()"
   ]
  },
  {
   "cell_type": "code",
   "execution_count": 47,
   "id": "18496133",
   "metadata": {},
   "outputs": [
    {
     "name": "stdout",
     "output_type": "stream",
     "text": [
      "Hybrid Car initializing\n",
      "Electric vehicle charging\n",
      "Hybrid vehicle preparing systems\n",
      "Generic vehicle engine starting\n",
      "\n",
      "Method Resolution Order:\n",
      "HybridCar\n",
      "ElectricVehicle\n",
      "HybridVehicle\n",
      "Vehicle\n",
      "object\n"
     ]
    }
   ],
   "source": [
    "#example\n",
    "class Vehicle:\n",
    "    def start_engine(self):\n",
    "        print(\"Generic vehicle engine starting\")\n",
    "\n",
    "class ElectricVehicle(Vehicle):\n",
    "    def start_engine(self):\n",
    "        print(\"Electric vehicle charging\")\n",
    "        super().start_engine()\n",
    "\n",
    "class HybridVehicle(Vehicle):\n",
    "    def start_engine(self):\n",
    "        print(\"Hybrid vehicle preparing systems\")\n",
    "        super().start_engine()\n",
    "\n",
    "class HybridCar(ElectricVehicle, HybridVehicle):\n",
    "    def start_engine(self):\n",
    "        print(\"Hybrid Car initializing\")\n",
    "        super().start_engine()\n",
    "\n",
    "def demonstrate_mro():\n",
    "    # Demonstrate method resolution\n",
    "    hybrid_car = HybridCar()\n",
    "    hybrid_car.start_engine()\n",
    "\n",
    "    # Show the Method Resolution Order\n",
    "    print(\"\\nMethod Resolution Order:\")\n",
    "    for cls in HybridCar.mro():\n",
    "        print(cls.__name__)\n",
    "\n",
    "if __name__ == \"__main__\":\n",
    "    demonstrate_mro()"
   ]
  },
  {
   "cell_type": "code",
   "execution_count": 48,
   "id": "f680055d",
   "metadata": {},
   "outputs": [],
   "source": [
    "#Question 14) Write a class method that keeps track of the number of instances created from a class"
   ]
  },
  {
   "cell_type": "code",
   "execution_count": 49,
   "id": "57719272",
   "metadata": {},
   "outputs": [
    {
     "name": "stdout",
     "output_type": "stream",
     "text": [
      "Total Instances: 3\n"
     ]
    }
   ],
   "source": [
    "class InstanceTracker:\n",
    "    # Class variable to track total instances\n",
    "    _total_instances = 0\n",
    "    \n",
    "    def __init__(self, name):\n",
    "        self.name = name\n",
    "        # Increment instance count on creation\n",
    "        InstanceTracker._total_instances += 1\n",
    "    \n",
    "    @classmethod\n",
    "    def get_instance_count(cls):\n",
    "        \"\"\"\n",
    "        Class method to return the total number of instances created\n",
    "        \"\"\"\n",
    "        return cls._total_instances\n",
    "    \n",
    "    def __del__(self):\n",
    "        \"\"\"\n",
    "        Optional: Decrement instance count when an instance is deleted\n",
    "        \"\"\"\n",
    "        InstanceTracker._total_instances -= 1\n",
    "        \n",
    "obj1 = InstanceTracker(\"First\")\n",
    "obj2 = InstanceTracker(\"Second\")\n",
    "obj3 = InstanceTracker(\"Third\")\n",
    "    \n",
    "# Check total instances\n",
    "print(f\"Total Instances: {InstanceTracker.get_instance_count()}\")"
   ]
  },
  {
   "cell_type": "code",
   "execution_count": 50,
   "id": "9d5e6839",
   "metadata": {},
   "outputs": [],
   "source": [
    "#Question 15) Implement a static method in a class that checks if a given year is a leap year."
   ]
  },
  {
   "cell_type": "code",
   "execution_count": 51,
   "id": "a5e2761d",
   "metadata": {},
   "outputs": [],
   "source": [
    "class LeapYearChecker:\n",
    "    \"\"\"\n",
    "    A class with a static method to determine if a year is a leap year\n",
    "    \"\"\"\n",
    "    \n",
    "    @staticmethod\n",
    "    def is_leap_year(year):\n",
    "        \"\"\"\n",
    "        Determine if the given year is a leap year\n",
    "        \n",
    "        Args:\n",
    "            year (int): The year to check\n",
    "        \n",
    "        Returns:\n",
    "            bool: True if the year is a leap year, False otherwise\n",
    "        \n",
    "        Leap Year Rules:\n",
    "        1. Year must be divisible by 4\n",
    "        2. If divisible by 100, must also be divisible by 400\n",
    "        \"\"\"\n",
    "        # Validate input\n",
    "        if not isinstance(year, int):\n",
    "            raise TypeError(\"Year must be an integer\")\n",
    "        \n",
    "        if year <= 0:\n",
    "            raise ValueError(\"Year must be a positive integer\")\n",
    "        \n",
    "        # Leap year calculation\n",
    "        return year % 4 == 0 and (year % 100 != 0 or year % 400 == 0)"
   ]
  },
  {
   "cell_type": "code",
   "execution_count": 52,
   "id": "8ddb0b77",
   "metadata": {},
   "outputs": [
    {
     "name": "stdout",
     "output_type": "stream",
     "text": [
      "2000: True\n",
      "2020: True\n",
      "2100: False\n",
      "2024: True\n",
      "1900: False\n",
      "2023: False\n"
     ]
    }
   ],
   "source": [
    "test_years = [2000, 2020, 2100, 2024, 1900, 2023]\n",
    "for year in test_years:\n",
    "    print(f\"{year}: {LeapYearChecker.is_leap_year(year)}\")"
   ]
  },
  {
   "cell_type": "code",
   "execution_count": null,
   "id": "24978529",
   "metadata": {},
   "outputs": [],
   "source": []
  }
 ],
 "metadata": {
  "kernelspec": {
   "display_name": "Python 3 (ipykernel)",
   "language": "python",
   "name": "python3"
  },
  "language_info": {
   "codemirror_mode": {
    "name": "ipython",
    "version": 3
   },
   "file_extension": ".py",
   "mimetype": "text/x-python",
   "name": "python",
   "nbconvert_exporter": "python",
   "pygments_lexer": "ipython3",
   "version": "3.11.5"
  }
 },
 "nbformat": 4,
 "nbformat_minor": 5
}
